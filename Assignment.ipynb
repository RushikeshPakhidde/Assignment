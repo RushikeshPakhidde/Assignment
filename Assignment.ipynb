{
 "cells": [
  {
   "cell_type": "markdown",
   "id": "9719e41e",
   "metadata": {},
   "source": [
    "Q1.What is a lambda function in Python, and how does it differ from a regular function?"
   ]
  },
  {
   "cell_type": "code",
   "execution_count": 3,
   "id": "fea9d4a9",
   "metadata": {},
   "outputs": [
    {
     "name": "stdout",
     "output_type": "stream",
     "text": [
      "8\n",
      "8\n"
     ]
    }
   ],
   "source": [
    "# Regular named function\n",
    "def add(x, y):\n",
    "    return x + y\n",
    "# Lambda function\n",
    "add_lambda = lambda x, y: x + y\n",
    "\n",
    "print(add(3, 5))\n",
    "print(add_lambda(3, 5))"
   ]
  },
  {
   "cell_type": "markdown",
   "id": "e1dc8775",
   "metadata": {},
   "source": [
    "Q2. Can a lambda function in Python have multiple arguments? If yes, how can you define and use them?"
   ]
  },
  {
   "cell_type": "code",
   "execution_count": 2,
   "id": "21533aaa",
   "metadata": {},
   "outputs": [
    {
     "name": "stdout",
     "output_type": "stream",
     "text": [
      "13\n"
     ]
    }
   ],
   "source": [
    "# Yes, a lambda function in Python can have multiple arguments. \n",
    "x=lambda a,b,c:a+b+c\n",
    "print(x(5,6,2))"
   ]
  },
  {
   "cell_type": "markdown",
   "id": "e42caf90",
   "metadata": {},
   "source": [
    "Q3. How are lambda functions typically used in Python? Provide an example use case."
   ]
  },
  {
   "cell_type": "code",
   "execution_count": 4,
   "id": "86d495bd",
   "metadata": {},
   "outputs": [
    {
     "name": "stdout",
     "output_type": "stream",
     "text": [
      "[1, 4, 9, 16, 25]\n",
      "[1, 4, 9, 16, 25]\n"
     ]
    }
   ],
   "source": [
    "# Lambda functions in Python are typically used in situations where a small anonymous function is needed for a short period\n",
    "# or within another function. They are often used as arguments to higher-order functions like map(), filter(), or sorted(), \n",
    "# or within list comprehensions.\n",
    "# eg.\n",
    "# Using a regular function with map()\n",
    "def square(x):\n",
    "    return x ** 2\n",
    "\n",
    "numbers = [1, 2, 3, 4, 5]\n",
    "squared_numbers = list(map(square, numbers))\n",
    "print(squared_numbers)\n",
    "\n",
    "# Using a lambda function with map()\n",
    "numbers = [1, 2, 3, 4, 5]\n",
    "squared_numbers = list(map(lambda x: x ** 2, numbers))\n",
    "print(squared_numbers)\n"
   ]
  },
  {
   "cell_type": "markdown",
   "id": "8fda96c7",
   "metadata": {},
   "source": [
    "Q4. What are the advantages and limitations of lambda functions compared to regular functions in Python?"
   ]
  },
  {
   "cell_type": "markdown",
   "id": "7c25afda",
   "metadata": {},
   "source": [
    "Lambda functions in Python have several advantages and limitations compared to regular functions:\n",
    "\n",
    "Advantages:\n",
    "\n",
    "1.Conciseness: Lambda functions are concise and allow you to define simple functions in a single line of code, \n",
    "without the need for a separate function definition.\n",
    "\n",
    "2.Readability: Lambda functions can make code more readable in situations where the function logic is straightforward\n",
    "and doesn't require a separate named function.\n",
    "\n",
    "3.Functional programming: Lambda functions are often used in functional programming paradigms, where functions are\n",
    "treated as first-class citizens and can be passed around as arguments to other functions.\n",
    "\n",
    "4.Avoiding namespace pollution: Since lambda functions are anonymous, they don't clutter the namespace with function \n",
    "names that are only used once.\n",
    "\n",
    "Limitations:\n",
    "\n",
    "1.Single expression: Lambda functions can only contain a single expression, limiting their ability to handle more complex\n",
    "logic compared to regular functions, which can contain multiple statements.\n",
    "\n",
    "2.Lack of documentation: Lambda functions are anonymous and don't have docstrings, making them less self-descriptive \n",
    "compared to regular functions, which can include documentation explaining their purpose and usage.\n",
    "\n",
    "3.Limited debugging: Since lambda functions are anonymous, debugging can be more challenging compared to regular functions,\n",
    "which have named identifiers that can be used in error messages and debugging tools.\n",
    "\n",
    "4.Limited reusability: Lambda functions are typically used for short-lived, one-off tasks and aren't well-suited for reuse\n",
    "in multiple places within a codebase. Regular functions, on the other hand, can be defined once and reused multiple times."
   ]
  },
  {
   "cell_type": "markdown",
   "id": "892ba861",
   "metadata": {},
   "source": [
    "Q5. Are lambda functions in Python able to access variables defined outside of their own scope? Explain with an example."
   ]
  },
  {
   "cell_type": "code",
   "execution_count": 5,
   "id": "656cd9bd",
   "metadata": {},
   "outputs": [
    {
     "name": "stdout",
     "output_type": "stream",
     "text": [
      "15\n"
     ]
    }
   ],
   "source": [
    "# Yes, lambda functions in Python can access variables defined outside of their own scope. This is possible due to a \n",
    "# mechanism called lexical scoping or closure. When a lambda function is defined, it retains access to the variables \n",
    "# in the enclosing scope where it was defined.\n",
    "# Here's an example demonstrating this behavior:\n",
    "\n",
    "def outer_function():\n",
    "    x = 10\n",
    "    return lambda y: x + y\n",
    "\n",
    "# Define a lambda function that takes an argument y and adds it to x\n",
    "lambda_func = outer_function()\n",
    "\n",
    "# Call the lambda function with an argument\n",
    "result = lambda_func(5)\n",
    "print(result)\n",
    "\n",
    "# In this example, the lambda function lambda_func is defined inside the outer_function, which sets the variable x to 10.\n",
    "# Even though x is not an argument of the lambda function, the lambda function still has access to it because it was defined\n",
    "# in the same scope. When the lambda function is called with an argument 5, it adds 5 to the value of x, which is 10,\n",
    "# resulting in 15."
   ]
  },
  {
   "cell_type": "markdown",
   "id": "be206986",
   "metadata": {},
   "source": [
    "Q6. Write a lambda function to calculate the square of a given number."
   ]
  },
  {
   "cell_type": "code",
   "execution_count": 7,
   "id": "6ebe890c",
   "metadata": {},
   "outputs": [
    {
     "name": "stdout",
     "output_type": "stream",
     "text": [
      "9\n"
     ]
    }
   ],
   "source": [
    "square = lambda x: x ** 2\n",
    "print(square(3))"
   ]
  },
  {
   "cell_type": "markdown",
   "id": "e72e6c4e",
   "metadata": {},
   "source": [
    "Q7. Create a lambda function to find the maximum value in a list of integers."
   ]
  },
  {
   "cell_type": "code",
   "execution_count": 8,
   "id": "70190875",
   "metadata": {},
   "outputs": [
    {
     "name": "stdout",
     "output_type": "stream",
     "text": [
      "20\n"
     ]
    }
   ],
   "source": [
    "max_value = lambda lst: max(lst, key=lambda x: x)\n",
    "numbers = [10, 5, 8, 20, 15]\n",
    "print(find_max(numbers)) "
   ]
  },
  {
   "cell_type": "markdown",
   "id": "d14f5c60",
   "metadata": {},
   "source": [
    "Q8. Implement a lambda function to filter out all the even numbers from a list of integers."
   ]
  },
  {
   "cell_type": "code",
   "execution_count": 9,
   "id": "4b3eba64",
   "metadata": {},
   "outputs": [
    {
     "name": "stdout",
     "output_type": "stream",
     "text": [
      "[2, 4, 6, 8, 10]\n"
     ]
    }
   ],
   "source": [
    "even_numbers = lambda lst: list(filter(lambda x: x % 2 == 0, lst))\n",
    "numbers = [1, 2, 3, 4, 5, 6, 7, 8, 9, 10]\n",
    "print(even_numbers(numbers))"
   ]
  },
  {
   "cell_type": "markdown",
   "id": "af0d8cca",
   "metadata": {},
   "source": [
    "Q9. Write a lambda function to sort a list of strings in ascending order based on the length of each string."
   ]
  },
  {
   "cell_type": "code",
   "execution_count": 10,
   "id": "1829122f",
   "metadata": {},
   "outputs": [
    {
     "name": "stdout",
     "output_type": "stream",
     "text": [
      "['kiwi', 'apple', 'grape', 'banana', 'orange']\n"
     ]
    }
   ],
   "source": [
    "sort_list_of_string = lambda lst: sorted(lst, key=lambda x: len(x))\n",
    "strings = [\"apple\", \"banana\", \"orange\", \"kiwi\", \"grape\"]\n",
    "print(sort_list_of_string(strings))"
   ]
  },
  {
   "cell_type": "markdown",
   "id": "290c21de",
   "metadata": {},
   "source": [
    "Q10. Create a lambda function that takes two lists as input and returns a new list containing the common elements between \n",
    "the two lists"
   ]
  },
  {
   "cell_type": "code",
   "execution_count": 11,
   "id": "a65aab58",
   "metadata": {},
   "outputs": [
    {
     "name": "stdout",
     "output_type": "stream",
     "text": [
      "[4, 5]\n"
     ]
    }
   ],
   "source": [
    "common_elements = lambda list1, list2: list(set(list1) & set(list2))\n",
    "list1 = [1, 2, 3, 4, 5]\n",
    "list2 = [4, 5, 6, 7, 8]\n",
    "print(common_elements(list1, list2))"
   ]
  },
  {
   "cell_type": "markdown",
   "id": "9e472d61",
   "metadata": {},
   "source": [
    "Q11. Write a recursive function to calculate the factorial of a given positive integer."
   ]
  },
  {
   "cell_type": "code",
   "execution_count": 12,
   "id": "b946d642",
   "metadata": {},
   "outputs": [
    {
     "name": "stdout",
     "output_type": "stream",
     "text": [
      "5040\n"
     ]
    }
   ],
   "source": [
    "def factorial(n):\n",
    "    if n==0 or n==1:\n",
    "        return 1\n",
    "    else:\n",
    "        return n*factorial(n-1)\n",
    "print(factorial(7))"
   ]
  },
  {
   "cell_type": "markdown",
   "id": "a94e4fc3",
   "metadata": {},
   "source": [
    "Q12. Implement a recursive function to compute the nth Fibonacci number."
   ]
  },
  {
   "cell_type": "code",
   "execution_count": 16,
   "id": "9bf71754",
   "metadata": {},
   "outputs": [
    {
     "name": "stdout",
     "output_type": "stream",
     "text": [
      "5\n"
     ]
    }
   ],
   "source": [
    "def fibonacci(n):\n",
    "    # Base cases: Fibonacci of 0 is 0, Fibonacci of 1 is 1\n",
    "    if n == 0:\n",
    "        return 0\n",
    "    elif n == 1:\n",
    "        return 1\n",
    "    # Recursive case: Fibonacci of n is the sum of Fibonacci of (n-1) and Fibonacci of (n-2)\n",
    "    else:\n",
    "        return fibonacci(n - 1) + fibonacci(n - 2)\n",
    "print(fibonacci(5))"
   ]
  },
  {
   "cell_type": "markdown",
   "id": "b4add738",
   "metadata": {},
   "source": [
    "Q13. Create a recursive function to find the sum of all the elements in a given list."
   ]
  },
  {
   "cell_type": "code",
   "execution_count": 17,
   "id": "47784205",
   "metadata": {},
   "outputs": [
    {
     "name": "stdout",
     "output_type": "stream",
     "text": [
      "15\n",
      "60\n",
      "0\n"
     ]
    }
   ],
   "source": [
    "def list_sum(lst):\n",
    "    # Base case: if the list is empty, sum is 0\n",
    "    if not lst:\n",
    "        return 0\n",
    "    # Recursive case: sum of the first element and the sum of the rest of the list\n",
    "    else:\n",
    "        return lst[0] + list_sum(lst[1:])\n",
    "print(list_sum([1, 2, 3, 4, 5]))\n",
    "print(list_sum([10, 20, 30]))\n",
    "print(list_sum([]))"
   ]
  },
  {
   "cell_type": "markdown",
   "id": "7c70ec05",
   "metadata": {},
   "source": [
    "Q14. Write a recursive function to determine whether a given string is a palindrome."
   ]
  },
  {
   "cell_type": "code",
   "execution_count": 18,
   "id": "64e95d11",
   "metadata": {},
   "outputs": [
    {
     "name": "stdout",
     "output_type": "stream",
     "text": [
      "True\n",
      "True\n",
      "False\n",
      "True\n"
     ]
    }
   ],
   "source": [
    "def is_palindrome(s):\n",
    "    # Base case: if the string has 0 or 1 character, it is a palindrome\n",
    "    if len(s) <= 1:\n",
    "        return True\n",
    "    # Recursive case: check if the first and last characters are the same,\n",
    "    # and recursively check the substring between them\n",
    "    else:\n",
    "        return s[0] == s[-1] and is_palindrome(s[1:-1])\n",
    "print(is_palindrome(\"radar\"))\n",
    "print(is_palindrome(\"level\"))\n",
    "print(is_palindrome(\"hello\"))\n",
    "print(is_palindrome(\"\"))"
   ]
  },
  {
   "cell_type": "markdown",
   "id": "68e3da81",
   "metadata": {},
   "source": [
    "Q15. Implement a recursive function to find the greatest common divisor (GCD) of two positive integers."
   ]
  },
  {
   "cell_type": "code",
   "execution_count": 19,
   "id": "ce027718",
   "metadata": {},
   "outputs": [
    {
     "name": "stdout",
     "output_type": "stream",
     "text": [
      "6\n",
      "5\n",
      "14\n"
     ]
    }
   ],
   "source": [
    "def gcd(a, b):\n",
    "    # Base case: if b is 0, then gcd(a, b) is a\n",
    "    if b == 0:\n",
    "        return a\n",
    "    # Recursive case: gcd(a, b) is gcd(b, a % b)\n",
    "    else:\n",
    "        return gcd(b, a % b)\n",
    "print(gcd(12, 18))\n",
    "print(gcd(25, 10))\n",
    "print(gcd(14, 28))"
   ]
  },
  {
   "cell_type": "code",
   "execution_count": null,
   "id": "3c3400ef",
   "metadata": {},
   "outputs": [],
   "source": []
  }
 ],
 "metadata": {
  "kernelspec": {
   "display_name": "Python 3 (ipykernel)",
   "language": "python",
   "name": "python3"
  },
  "language_info": {
   "codemirror_mode": {
    "name": "ipython",
    "version": 3
   },
   "file_extension": ".py",
   "mimetype": "text/x-python",
   "name": "python",
   "nbconvert_exporter": "python",
   "pygments_lexer": "ipython3",
   "version": "3.11.4"
  }
 },
 "nbformat": 4,
 "nbformat_minor": 5
}
