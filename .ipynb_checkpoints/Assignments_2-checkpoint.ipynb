{
 "cells": [
  {
   "cell_type": "markdown",
   "id": "da1c5c8d",
   "metadata": {},
   "source": [
    "Q1. What does an empty dictionary's code look like?"
   ]
  },
  {
   "cell_type": "code",
   "execution_count": 1,
   "id": "31dfb7ec",
   "metadata": {},
   "outputs": [],
   "source": [
    "empty_dict={}"
   ]
  },
  {
   "cell_type": "markdown",
   "id": "0274bf72",
   "metadata": {},
   "source": [
    "Q2. What is the value of a dictionary value with the key 'foo' and the value 42?"
   ]
  },
  {
   "cell_type": "code",
   "execution_count": 2,
   "id": "b3034741",
   "metadata": {},
   "outputs": [
    {
     "name": "stdout",
     "output_type": "stream",
     "text": [
      "42\n"
     ]
    }
   ],
   "source": [
    "# The value of a dictionary with the key 'foo' and the value 42 would simply be 42.\n",
    "# In Python syntax, it would look like this:\n",
    "\n",
    "my_dict = {'foo': 42}\n",
    "value_of_foo = my_dict['foo']\n",
    "print(value_of_foo)"
   ]
  },
  {
   "cell_type": "markdown",
   "id": "70dc1f23",
   "metadata": {},
   "source": [
    "Q3. What is the most significant distinction between a dictionary and a list?"
   ]
  },
  {
   "cell_type": "markdown",
   "id": "0010ee3b",
   "metadata": {},
   "source": [
    "The most significant distinction between a dictionary and a list lies in how they store and retrieve data:\n",
    "\n",
    "Structure:\n",
    "\n",
    "Dictionary: It is a collection of key-value pairs where each key is unique within the dictionary.\n",
    "Keys are used to access the corresponding values. Dictionaries are unordered.\n",
    "\n",
    "List: It is an ordered collection of items. Each item in a list has an index, starting from 0. \n",
    "Lists allow duplicate values, and items are accessed by their position in the list.\n",
    "\n",
    "Accessing Elements:\n",
    "\n",
    "Dictionary: Elements are accessed by their keys. You can directly access a value in a dictionary \n",
    "using its associated key.\n",
    "\n",
    "List: Elements are accessed by their index. You can retrieve a value in a list by specifying its position\n",
    "or index in the list.\n",
    "\n",
    "Mutability:\n",
    "\n",
    "Dictionary: Dictionaries are mutable, meaning you can add, remove, or modify key-value pairs after the dictionary\n",
    "is created.\n",
    "\n",
    "List: Lists are mutable as well, allowing for adding, removing, or modifying elements at specific positions within\n",
    "the list.\n",
    "\n",
    "Ordering:\n",
    "\n",
    "Dictionary: Dictionaries are unordered, meaning there is no inherent order among the elements. \n",
    "The order in which key-value pairs are stored is not guaranteed to be consistent.\n",
    "\n",
    "List: Lists are ordered, meaning the elements in a list have a defined sequence, and they \n",
    "maintain the order in which they were added."
   ]
  },
  {
   "cell_type": "markdown",
   "id": "52c45074",
   "metadata": {},
   "source": [
    "Q4. What happens if you try to access spam['foo'] if spam is {'bar': 100}?"
   ]
  },
  {
   "cell_type": "code",
   "execution_count": 5,
   "id": "3dff40ba",
   "metadata": {},
   "outputs": [
    {
     "ename": "KeyError",
     "evalue": "'foo'",
     "output_type": "error",
     "traceback": [
      "\u001b[1;31m---------------------------------------------------------------------------\u001b[0m",
      "\u001b[1;31mKeyError\u001b[0m                                  Traceback (most recent call last)",
      "Cell \u001b[1;32mIn [5], line 5\u001b[0m\n\u001b[0;32m      1\u001b[0m \u001b[38;5;66;03m# If you try to access spam['foo'] when spam is {'bar': 100}, it will raise a KeyError because there is no key \u001b[39;00m\n\u001b[0;32m      2\u001b[0m \u001b[38;5;66;03m# 'foo' in the dictionary spam. The KeyError is raised because you're attempting to access a key that does not\u001b[39;00m\n\u001b[0;32m      3\u001b[0m \u001b[38;5;66;03m# exist in the dictionary. Here's an example in Python:\u001b[39;00m\n\u001b[0;32m      4\u001b[0m spam \u001b[38;5;241m=\u001b[39m {\u001b[38;5;124m'\u001b[39m\u001b[38;5;124mbar\u001b[39m\u001b[38;5;124m'\u001b[39m: \u001b[38;5;241m100\u001b[39m}\n\u001b[1;32m----> 5\u001b[0m value \u001b[38;5;241m=\u001b[39m \u001b[43mspam\u001b[49m\u001b[43m[\u001b[49m\u001b[38;5;124;43m'\u001b[39;49m\u001b[38;5;124;43mfoo\u001b[39;49m\u001b[38;5;124;43m'\u001b[39;49m\u001b[43m]\u001b[49m \u001b[38;5;66;03m# This line will raise a KeyError\u001b[39;00m\n",
      "\u001b[1;31mKeyError\u001b[0m: 'foo'"
     ]
    }
   ],
   "source": [
    "# If you try to access spam['foo'] when spam is {'bar': 100}, it will raise a KeyError because there is no key \n",
    "# 'foo' in the dictionary spam. The KeyError is raised because you're attempting to access a key that does not\n",
    "# exist in the dictionary. Here's an example in Python:\n",
    "spam = {'bar': 100}\n",
    "value = spam['foo'] # This line will raise a KeyError"
   ]
  },
  {
   "cell_type": "markdown",
   "id": "9def0261",
   "metadata": {},
   "source": [
    "Q5. If a dictionary is stored in spam, what is the difference between the expressions 'cat' in spam and 'cat' in spam.keys()?"
   ]
  },
  {
   "cell_type": "code",
   "execution_count": 8,
   "id": "7667966f",
   "metadata": {},
   "outputs": [
    {
     "name": "stdout",
     "output_type": "stream",
     "text": [
      "True\n",
      "dict_keys(['cat', 'dog'])\n"
     ]
    }
   ],
   "source": [
    "spam={'cat':42, 'dog':7}\n",
    "print('cat' in spam)\n",
    "spam={'cat':42, 'dog':7}\n",
    "print(spam.keys())"
   ]
  },
  {
   "cell_type": "markdown",
   "id": "6684f721",
   "metadata": {},
   "source": [
    "Q6. If a dictionary is stored in spam, what is the difference between the expressions 'cat' in spam and 'cat' in spam.values()?"
   ]
  },
  {
   "cell_type": "code",
   "execution_count": 9,
   "id": "5c66c5db",
   "metadata": {},
   "outputs": [
    {
     "name": "stdout",
     "output_type": "stream",
     "text": [
      "True\n",
      "dict_values([42, 7])\n"
     ]
    }
   ],
   "source": [
    "spam={'cat':42, 'dog':7}\n",
    "print('cat' in spam)\n",
    "spam={'cat':42, 'dog':7}\n",
    "print(spam.values())"
   ]
  },
  {
   "cell_type": "markdown",
   "id": "1508ba38",
   "metadata": {},
   "source": [
    "Q7. What is a shortcut for the following code?\n",
    "if 'color' not in spam:\n",
    "spam['color'] = 'black'"
   ]
  },
  {
   "cell_type": "code",
   "execution_count": 6,
   "id": "677f5ef2",
   "metadata": {},
   "outputs": [
    {
     "data": {
      "text/plain": [
       "'black'"
      ]
     },
     "execution_count": 6,
     "metadata": {},
     "output_type": "execute_result"
    }
   ],
   "source": [
    "spam.setdefault('color', 'black')"
   ]
  },
  {
   "cell_type": "markdown",
   "id": "b3b099bc",
   "metadata": {},
   "source": [
    "Q8. How do you \"pretty print\" dictionary values using which module and function?"
   ]
  },
  {
   "cell_type": "code",
   "execution_count": 7,
   "id": "72f0d6f2",
   "metadata": {},
   "outputs": [
    {
     "name": "stdout",
     "output_type": "stream",
     "text": [
      "{'age': 30, 'city': 'New York', 'name': 'John'}\n"
     ]
    }
   ],
   "source": [
    "import pprint\n",
    "\n",
    "my_dict = {'name': 'John', 'age': 30, 'city': 'New York'}\n",
    "pprint.pprint(my_dict)"
   ]
  },
  {
   "cell_type": "code",
   "execution_count": null,
   "id": "414bdda4",
   "metadata": {},
   "outputs": [],
   "source": []
  }
 ],
 "metadata": {
  "kernelspec": {
   "display_name": "Python 3 (ipykernel)",
   "language": "python",
   "name": "python3"
  },
  "language_info": {
   "codemirror_mode": {
    "name": "ipython",
    "version": 3
   },
   "file_extension": ".py",
   "mimetype": "text/x-python",
   "name": "python",
   "nbconvert_exporter": "python",
   "pygments_lexer": "ipython3",
   "version": "3.11.4"
  }
 },
 "nbformat": 4,
 "nbformat_minor": 5
}
